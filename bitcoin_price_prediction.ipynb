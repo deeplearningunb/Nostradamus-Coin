{
 "cells": [
  {
   "cell_type": "markdown",
   "metadata": {},
   "source": [
    "# Install dependencies"
   ]
  },
  {
   "cell_type": "code",
   "execution_count": 15,
   "metadata": {},
   "outputs": [
    {
     "name": "stdout",
     "output_type": "stream",
     "text": [
      "Requirement already satisfied: numpy==1.16.2 in /srv/conda/envs/notebook/lib/python3.7/site-packages (from -r requirements.txt (line 1)) (1.16.2)\n",
      "Requirement already satisfied: pandas==0.24.2 in /srv/conda/envs/notebook/lib/python3.7/site-packages (from -r requirements.txt (line 2)) (0.24.2)\n",
      "Requirement already satisfied: matplotlib==3.0.3 in /srv/conda/envs/notebook/lib/python3.7/site-packages (from -r requirements.txt (line 3)) (3.0.3)\n",
      "Requirement already satisfied: Keras==2.2.4 in /srv/conda/envs/notebook/lib/python3.7/site-packages (from -r requirements.txt (line 4)) (2.2.4)\n",
      "Requirement already satisfied: sklearn in /srv/conda/envs/notebook/lib/python3.7/site-packages (from -r requirements.txt (line 5)) (0.0)\n",
      "Requirement already satisfied: pytz>=2011k in /srv/conda/envs/notebook/lib/python3.7/site-packages (from pandas==0.24.2->-r requirements.txt (line 2)) (2019.1)\n",
      "Requirement already satisfied: python-dateutil>=2.5.0 in /srv/conda/envs/notebook/lib/python3.7/site-packages (from pandas==0.24.2->-r requirements.txt (line 2)) (2.8.0)\n",
      "Requirement already satisfied: pyparsing!=2.0.4,!=2.1.2,!=2.1.6,>=2.0.1 in /srv/conda/envs/notebook/lib/python3.7/site-packages (from matplotlib==3.0.3->-r requirements.txt (line 3)) (2.4.0)\n",
      "Requirement already satisfied: cycler>=0.10 in /srv/conda/envs/notebook/lib/python3.7/site-packages (from matplotlib==3.0.3->-r requirements.txt (line 3)) (0.10.0)\n",
      "Requirement already satisfied: kiwisolver>=1.0.1 in /srv/conda/envs/notebook/lib/python3.7/site-packages (from matplotlib==3.0.3->-r requirements.txt (line 3)) (1.1.0)\n",
      "Requirement already satisfied: keras-preprocessing>=1.0.5 in /srv/conda/envs/notebook/lib/python3.7/site-packages (from Keras==2.2.4->-r requirements.txt (line 4)) (1.0.9)\n",
      "Requirement already satisfied: six>=1.9.0 in /srv/conda/envs/notebook/lib/python3.7/site-packages (from Keras==2.2.4->-r requirements.txt (line 4)) (1.12.0)\n",
      "Requirement already satisfied: h5py in /srv/conda/envs/notebook/lib/python3.7/site-packages (from Keras==2.2.4->-r requirements.txt (line 4)) (2.9.0)\n",
      "Requirement already satisfied: pyyaml in /srv/conda/envs/notebook/lib/python3.7/site-packages (from Keras==2.2.4->-r requirements.txt (line 4)) (5.1.1)\n",
      "Requirement already satisfied: keras-applications>=1.0.6 in /srv/conda/envs/notebook/lib/python3.7/site-packages (from Keras==2.2.4->-r requirements.txt (line 4)) (1.0.7)\n",
      "Requirement already satisfied: scipy>=0.14 in /srv/conda/envs/notebook/lib/python3.7/site-packages (from Keras==2.2.4->-r requirements.txt (line 4)) (1.3.0)\n",
      "Requirement already satisfied: scikit-learn in /srv/conda/envs/notebook/lib/python3.7/site-packages (from sklearn->-r requirements.txt (line 5)) (0.21.2)\n",
      "Requirement already satisfied: setuptools in /srv/conda/envs/notebook/lib/python3.7/site-packages (from kiwisolver>=1.0.1->matplotlib==3.0.3->-r requirements.txt (line 3)) (41.0.1)\n",
      "Requirement already satisfied: joblib>=0.11 in /srv/conda/envs/notebook/lib/python3.7/site-packages (from scikit-learn->sklearn->-r requirements.txt (line 5)) (0.13.2)\n"
     ]
    }
   ],
   "source": [
    "!pip install -r requirements.txt"
   ]
  },
  {
   "cell_type": "markdown",
   "metadata": {},
   "source": [
    "# Preprocessing the data"
   ]
  },
  {
   "cell_type": "code",
   "execution_count": 7,
   "metadata": {},
   "outputs": [],
   "source": [
    "import numpy as np\n",
    "import pandas as pd\n",
    "import matplotlib.pyplot as plt"
   ]
  },
  {
   "cell_type": "code",
   "execution_count": 8,
   "metadata": {},
   "outputs": [
    {
     "data": {
      "text/html": [
       "<div>\n",
       "<style scoped>\n",
       "    .dataframe tbody tr th:only-of-type {\n",
       "        vertical-align: middle;\n",
       "    }\n",
       "\n",
       "    .dataframe tbody tr th {\n",
       "        vertical-align: top;\n",
       "    }\n",
       "\n",
       "    .dataframe thead th {\n",
       "        text-align: right;\n",
       "    }\n",
       "</style>\n",
       "<table border=\"1\" class=\"dataframe\">\n",
       "  <thead>\n",
       "    <tr style=\"text-align: right;\">\n",
       "      <th></th>\n",
       "      <th>Open</th>\n",
       "    </tr>\n",
       "  </thead>\n",
       "  <tbody>\n",
       "    <tr>\n",
       "      <th>0</th>\n",
       "      <td>465.864014</td>\n",
       "    </tr>\n",
       "    <tr>\n",
       "      <th>1</th>\n",
       "      <td>456.859985</td>\n",
       "    </tr>\n",
       "    <tr>\n",
       "      <th>2</th>\n",
       "      <td>424.102997</td>\n",
       "    </tr>\n",
       "    <tr>\n",
       "      <th>3</th>\n",
       "      <td>394.673004</td>\n",
       "    </tr>\n",
       "    <tr>\n",
       "      <th>4</th>\n",
       "      <td>408.084991</td>\n",
       "    </tr>\n",
       "  </tbody>\n",
       "</table>\n",
       "</div>"
      ],
      "text/plain": [
       "         Open\n",
       "0  465.864014\n",
       "1  456.859985\n",
       "2  424.102997\n",
       "3  394.673004\n",
       "4  408.084991"
      ]
     },
     "execution_count": 8,
     "metadata": {},
     "output_type": "execute_result"
    }
   ],
   "source": [
    "dataset=pd.read_csv('bitcoin_prices_train.csv')\n",
    "\n",
    "training_set=dataset.iloc[:,1:2]        #selecting the second column\n",
    "training_set.head()                          #print rows"
   ]
  },
  {
   "cell_type": "code",
   "execution_count": 9,
   "metadata": {},
   "outputs": [
    {
     "data": {
      "text/plain": [
       "array([[ 465.864014],\n",
       "       [ 456.859985],\n",
       "       [ 424.102997],\n",
       "       ...,\n",
       "       [3822.469971],\n",
       "       [4269.004395],\n",
       "       [4289.088867]])"
      ]
     },
     "execution_count": 9,
     "metadata": {},
     "output_type": "execute_result"
    }
   ],
   "source": [
    "training_set=training_set.values            #converting to 2d array\n",
    "training_set                                 #print the whole data"
   ]
  },
  {
   "cell_type": "code",
   "execution_count": 10,
   "metadata": {},
   "outputs": [],
   "source": [
    "#Scaling the data\n",
    "\n",
    "from sklearn.preprocessing import MinMaxScaler\n",
    "sc = MinMaxScaler()                           #scaling using \n",
    "training_set = sc.fit_transform(training_set)\n",
    "x_train=training_set[0:1535]                  #input values of rows\t\t   \n",
    "y_train=training_set[1:1536]                  #input values of rows\n",
    "\n",
    "today_prices=pd.DataFrame(x_train)               #assigning the values of x_train to today\n",
    "tomorrow_prices=pd.DataFrame(y_train)            #assigning the values of x_train to tomorrow\n",
    "ex= pd.concat([today_prices,tomorrow_prices],axis=1)        #concat two columns \n",
    "ex.columns=(['today_prices','tomorrow_prices'])\n",
    "x_train = np.reshape(x_train, (1535, 1, 1))     #Reshaping for Keras"
   ]
  },
  {
   "cell_type": "markdown",
   "metadata": {},
   "source": [
    "# Building RNN"
   ]
  },
  {
   "cell_type": "code",
   "execution_count": 12,
   "metadata": {},
   "outputs": [
    {
     "name": "stderr",
     "output_type": "stream",
     "text": [
      "Using TensorFlow backend.\n"
     ]
    },
    {
     "name": "stdout",
     "output_type": "stream",
     "text": [
      "WARNING:tensorflow:From /srv/conda/envs/notebook/lib/python3.7/site-packages/tensorflow/python/framework/op_def_library.py:263: colocate_with (from tensorflow.python.framework.ops) is deprecated and will be removed in a future version.\n",
      "Instructions for updating:\n",
      "Colocations handled automatically by placer.\n",
      "WARNING:tensorflow:From /srv/conda/envs/notebook/lib/python3.7/site-packages/keras/backend/tensorflow_backend.py:3445: calling dropout (from tensorflow.python.ops.nn_ops) with keep_prob is deprecated and will be removed in a future version.\n",
      "Instructions for updating:\n",
      "Please use `rate` instead of `keep_prob`. Rate should be set to `rate = 1 - keep_prob`.\n",
      "WARNING:tensorflow:From /srv/conda/envs/notebook/lib/python3.7/site-packages/tensorflow/python/ops/math_ops.py:3066: to_int32 (from tensorflow.python.ops.math_ops) is deprecated and will be removed in a future version.\n",
      "Instructions for updating:\n",
      "Use tf.cast instead.\n",
      "Epoch 1/100\n",
      "1535/1535 [==============================] - 6s 4ms/step - loss: 0.0391\n",
      "Epoch 2/100\n",
      "1535/1535 [==============================] - 2s 1ms/step - loss: 0.0037\n",
      "Epoch 3/100\n",
      "1535/1535 [==============================] - 2s 1ms/step - loss: 5.9316e-04\n",
      "Epoch 4/100\n",
      "1535/1535 [==============================] - 2s 1ms/step - loss: 4.7348e-04\n",
      "Epoch 5/100\n",
      "1535/1535 [==============================] - 2s 1ms/step - loss: 5.7233e-04\n",
      "Epoch 6/100\n",
      "1535/1535 [==============================] - 2s 1ms/step - loss: 5.5314e-04\n",
      "Epoch 7/100\n",
      "1535/1535 [==============================] - 2s 1ms/step - loss: 4.3714e-04A: 0s - loss: 4.3650e-\n",
      "Epoch 8/100\n",
      "1535/1535 [==============================] - 2s 1ms/step - loss: 5.0632e-04A: 0s - loss: 4.684\n",
      "Epoch 9/100\n",
      "1535/1535 [==============================] - 2s 1ms/step - loss: 5.8249e-04\n",
      "Epoch 10/100\n",
      "1535/1535 [==============================] - 2s 1ms/step - loss: 4.8114e-04\n",
      "Epoch 11/100\n",
      "1535/1535 [==============================] - 2s 1ms/step - loss: 4.4596e-04\n",
      "Epoch 12/100\n",
      "1535/1535 [==============================] - 2s 1ms/step - loss: 4.4229e-04\n",
      "Epoch 13/100\n",
      "1535/1535 [==============================] - 2s 1ms/step - loss: 4.4479e-04\n",
      "Epoch 14/100\n",
      "1535/1535 [==============================] - 2s 1ms/step - loss: 5.3483e-04\n",
      "Epoch 15/100\n",
      "1535/1535 [==============================] - 2s 1ms/step - loss: 4.6480e-04A: 1s - loss\n",
      "Epoch 16/100\n",
      "1535/1535 [==============================] - 2s 1ms/step - loss: 5.4661e-04\n",
      "Epoch 17/100\n",
      "1535/1535 [==============================] - 2s 1ms/step - loss: 5.0946e-04\n",
      "Epoch 18/100\n",
      "1535/1535 [==============================] - 2s 1ms/step - loss: 3.8518e-04\n",
      "Epoch 19/100\n",
      "1535/1535 [==============================] - 2s 1ms/step - loss: 4.0624e-04\n",
      "Epoch 20/100\n",
      "1535/1535 [==============================] - 2s 1ms/step - loss: 4.9726e-04\n",
      "Epoch 21/100\n",
      "1535/1535 [==============================] - 2s 1ms/step - loss: 4.8519e-04\n",
      "Epoch 22/100\n",
      "1535/1535 [==============================] - 2s 1ms/step - loss: 4.9992e-04\n",
      "Epoch 23/100\n",
      "1535/1535 [==============================] - 2s 1ms/step - loss: 4.5498e-04\n",
      "Epoch 24/100\n",
      "1535/1535 [==============================] - 2s 1ms/step - loss: 3.9683e-04\n",
      "Epoch 25/100\n",
      "1535/1535 [==============================] - 2s 1ms/step - loss: 4.8453e-04\n",
      "Epoch 26/100\n",
      "1535/1535 [==============================] - 2s 1ms/step - loss: 4.6669e-04\n",
      "Epoch 27/100\n",
      "1535/1535 [==============================] - 2s 1ms/step - loss: 4.6527e-04\n",
      "Epoch 28/100\n",
      "1535/1535 [==============================] - 2s 1ms/step - loss: 4.0103e-04A: 0s - loss: 4.0755e-\n",
      "Epoch 29/100\n",
      "1535/1535 [==============================] - 2s 1ms/step - loss: 4.2102e-04A: 1s - l\n",
      "Epoch 30/100\n",
      "1535/1535 [==============================] - 2s 1ms/step - loss: 4.7288e-04\n",
      "Epoch 31/100\n",
      "1535/1535 [==============================] - 2s 1ms/step - loss: 4.6114e-04\n",
      "Epoch 32/100\n",
      "1535/1535 [==============================] - 2s 1ms/step - loss: 4.3217e-04\n",
      "Epoch 33/100\n",
      "1535/1535 [==============================] - 2s 1ms/step - loss: 3.9481e-04A: 0s - loss: 3.8420e-0\n",
      "Epoch 34/100\n",
      "1535/1535 [==============================] - 2s 1ms/step - loss: 5.2064e-04\n",
      "Epoch 35/100\n",
      "1535/1535 [==============================] - 2s 1ms/step - loss: 4.5736e-04\n",
      "Epoch 36/100\n",
      "1535/1535 [==============================] - 2s 1ms/step - loss: 4.6315e-04\n",
      "Epoch 37/100\n",
      "1535/1535 [==============================] - 2s 1ms/step - loss: 4.4086e-04\n",
      "Epoch 38/100\n",
      "1535/1535 [==============================] - 2s 1ms/step - loss: 3.8393e-04\n",
      "Epoch 39/100\n",
      "1535/1535 [==============================] - 2s 1ms/step - loss: 4.0637e-04\n",
      "Epoch 40/100\n",
      "1535/1535 [==============================] - 2s 1ms/step - loss: 4.3640e-04\n",
      "Epoch 41/100\n",
      "1535/1535 [==============================] - 2s 1ms/step - loss: 4.2491e-04\n",
      "Epoch 42/100\n",
      "1535/1535 [==============================] - 2s 1ms/step - loss: 4.1364e-04\n",
      "Epoch 43/100\n",
      "1535/1535 [==============================] - 2s 1ms/step - loss: 4.3499e-04\n",
      "Epoch 44/100\n",
      "1535/1535 [==============================] - 2s 1ms/step - loss: 4.5077e-04\n",
      "Epoch 45/100\n",
      "1535/1535 [==============================] - 2s 1ms/step - loss: 4.3234e-04A: 1s - lo\n",
      "Epoch 46/100\n",
      "1535/1535 [==============================] - 2s 1ms/step - loss: 4.8028e-04\n",
      "Epoch 47/100\n",
      "1535/1535 [==============================] - 2s 1ms/step - loss: 4.7147e-04\n",
      "Epoch 48/100\n",
      "1535/1535 [==============================] - 2s 1ms/step - loss: 4.3486e-04A: 2s \n",
      "Epoch 49/100\n",
      "1535/1535 [==============================] - 2s 1ms/step - loss: 4.4991e-04A: 0s - loss: 4.4832e-0\n",
      "Epoch 50/100\n",
      "1535/1535 [==============================] - 2s 1ms/step - loss: 5.4043e-04\n",
      "Epoch 51/100\n",
      "1535/1535 [==============================] - 2s 1ms/step - loss: 4.1627e-04\n",
      "Epoch 52/100\n",
      "1535/1535 [==============================] - 2s 1ms/step - loss: 5.0824e-04\n",
      "Epoch 53/100\n",
      "1535/1535 [==============================] - 2s 1ms/step - loss: 4.1672e-04\n",
      "Epoch 54/100\n",
      "1535/1535 [==============================] - 2s 1ms/step - loss: 4.0653e-04\n",
      "Epoch 55/100\n",
      "1535/1535 [==============================] - 2s 1ms/step - loss: 4.0793e-04A: 1s - los\n",
      "Epoch 56/100\n",
      "1535/1535 [==============================] - 2s 1ms/step - loss: 4.9173e-04\n",
      "Epoch 57/100\n",
      "1535/1535 [==============================] - 2s 1ms/step - loss: 4.1920e-04\n",
      "Epoch 58/100\n",
      "1535/1535 [==============================] - 2s 1ms/step - loss: 4.1333e-04\n",
      "Epoch 59/100\n",
      "1535/1535 [==============================] - 2s 1ms/step - loss: 4.2189e-04\n",
      "Epoch 60/100\n",
      "1535/1535 [==============================] - 2s 1ms/step - loss: 4.8293e-04\n",
      "Epoch 61/100\n",
      "1535/1535 [==============================] - 2s 1ms/step - loss: 4.0445e-04\n",
      "Epoch 62/100\n",
      "1535/1535 [==============================] - 2s 1ms/step - loss: 4.9235e-04A: 1s -\n",
      "Epoch 63/100\n",
      "1535/1535 [==============================] - 2s 1ms/step - loss: 6.1455e-04\n",
      "Epoch 64/100\n",
      "1535/1535 [==============================] - 2s 1ms/step - loss: 5.0003e-04\n",
      "Epoch 65/100\n",
      "1535/1535 [==============================] - 2s 1ms/step - loss: 3.6707e-04\n",
      "Epoch 66/100\n",
      "1535/1535 [==============================] - 2s 1ms/step - loss: 4.9741e-04\n",
      "Epoch 67/100\n",
      "1535/1535 [==============================] - 2s 1ms/step - loss: 4.6335e-04\n",
      "Epoch 68/100\n",
      "1535/1535 [==============================] - 2s 1ms/step - loss: 5.7238e-04\n",
      "Epoch 69/100\n",
      "1535/1535 [==============================] - 2s 1ms/step - loss: 4.6818e-04\n",
      "Epoch 70/100\n",
      "1535/1535 [==============================] - 2s 1ms/step - loss: 4.1336e-04\n",
      "Epoch 71/100\n",
      "1535/1535 [==============================] - 2s 1ms/step - loss: 4.7648e-04\n",
      "Epoch 72/100\n",
      "1535/1535 [==============================] - 2s 1ms/step - loss: 4.3833e-04\n",
      "Epoch 73/100\n",
      "1535/1535 [==============================] - 2s 1ms/step - loss: 3.9076e-04\n",
      "Epoch 74/100\n",
      "1535/1535 [==============================] - 2s 1ms/step - loss: 3.6458e-04\n",
      "Epoch 75/100\n",
      "1535/1535 [==============================] - 2s 1ms/step - loss: 4.2641e-04\n",
      "Epoch 76/100\n",
      "1535/1535 [==============================] - 2s 1ms/step - loss: 4.3117e-04\n",
      "Epoch 77/100\n",
      "1535/1535 [==============================] - 2s 1ms/step - loss: 4.0258e-04\n",
      "Epoch 78/100\n",
      "1535/1535 [==============================] - 2s 1ms/step - loss: 4.2409e-04A: 1s \n",
      "Epoch 79/100\n",
      "1535/1535 [==============================] - 2s 1ms/step - loss: 3.8816e-04\n",
      "Epoch 80/100\n",
      "1535/1535 [==============================] - 2s 1ms/step - loss: 4.5483e-04\n",
      "Epoch 81/100\n",
      "1535/1535 [==============================] - 2s 1ms/step - loss: 4.6702e-04\n",
      "Epoch 82/100\n",
      "1535/1535 [==============================] - 2s 1ms/step - loss: 4.2321e-04\n",
      "Epoch 83/100\n",
      "1535/1535 [==============================] - 2s 1ms/step - loss: 3.7549e-04\n",
      "Epoch 84/100\n",
      "1535/1535 [==============================] - 2s 1ms/step - loss: 4.4018e-04\n",
      "Epoch 85/100\n",
      "1535/1535 [==============================] - 2s 1ms/step - loss: 4.9035e-04\n",
      "Epoch 86/100\n",
      "1535/1535 [==============================] - 2s 1ms/step - loss: 4.6391e-04\n",
      "Epoch 87/100\n",
      "1535/1535 [==============================] - 2s 1ms/step - loss: 3.8327e-04\n",
      "Epoch 88/100\n",
      "1535/1535 [==============================] - 2s 1ms/step - loss: 3.5573e-04\n",
      "Epoch 89/100\n",
      "1535/1535 [==============================] - 2s 1ms/step - loss: 4.7490e-04\n",
      "Epoch 90/100\n",
      "1535/1535 [==============================] - 2s 1ms/step - loss: 3.7957e-04\n",
      "Epoch 91/100\n",
      "1535/1535 [==============================] - 2s 1ms/step - loss: 4.3778e-04\n",
      "Epoch 92/100\n",
      "1535/1535 [==============================] - 2s 1ms/step - loss: 4.0662e-04\n",
      "Epoch 93/100\n",
      "1535/1535 [==============================] - 2s 1ms/step - loss: 4.2556e-04\n",
      "Epoch 94/100\n",
      "1535/1535 [==============================] - 2s 1ms/step - loss: 3.9730e-04\n",
      "Epoch 95/100\n",
      "1535/1535 [==============================] - 2s 1ms/step - loss: 4.2330e-04\n",
      "Epoch 96/100\n",
      "1535/1535 [==============================] - 2s 1ms/step - loss: 4.1763e-04\n",
      "Epoch 97/100\n",
      "1535/1535 [==============================] - 2s 1ms/step - loss: 3.9145e-04\n",
      "Epoch 98/100\n",
      "1535/1535 [==============================] - 2s 1ms/step - loss: 3.7370e-04\n",
      "Epoch 99/100\n",
      "1535/1535 [==============================] - 2s 1ms/step - loss: 4.8624e-04\n",
      "Epoch 100/100\n",
      "1535/1535 [==============================] - 1s 975us/step - loss: 4.2154e-04\n"
     ]
    },
    {
     "data": {
      "text/plain": [
       "<keras.callbacks.History at 0x7f94552d4940>"
      ]
     },
     "execution_count": 12,
     "metadata": {},
     "output_type": "execute_result"
    }
   ],
   "source": [
    "# Importing the Keras libraries and packages\n",
    "from keras.models import Sequential\n",
    "from keras.layers import Dense\n",
    "from keras.layers import LSTM\n",
    "from keras.layers import Dropout\n",
    "\n",
    "# Initialising the RNN\n",
    "regressor = Sequential()\n",
    "\n",
    "# Adding the first LSTM layer and some Dropout\n",
    "regressor.add(LSTM(units = 100, return_sequences = True, input_shape = (x_train.shape[1], 1)))\n",
    "regressor.add(Dropout(0.1))\n",
    "\n",
    "# Adding a second LSTM layer and some Dropout\n",
    "regressor.add(LSTM(units = 100, return_sequences = True))\n",
    "regressor.add(Dropout(0.1))\n",
    "\n",
    "# Adding a third LSTM layer and some Dropout\n",
    "regressor.add(LSTM(units = 100, return_sequences = True))\n",
    "regressor.add(Dropout(0.1))\n",
    "\n",
    "# Adding a fourth LSTM layer and some Dropout\n",
    "regressor.add(LSTM(units = 100))\n",
    "regressor.add(Dropout(0.1))\n",
    "\n",
    "# Adding the output layer\n",
    "regressor.add(Dense(units = 1))\n",
    "\n",
    "# Compiling the RNN\n",
    "regressor.compile(optimizer = 'adam', loss = 'mean_squared_error')\n",
    "\n",
    "# Fitting the RNN to the Training set\n",
    "regressor.fit(x_train, y_train, epochs = 100, batch_size = 32)"
   ]
  },
  {
   "cell_type": "markdown",
   "metadata": {},
   "source": [
    "# Predictions"
   ]
  },
  {
   "cell_type": "code",
   "execution_count": 13,
   "metadata": {},
   "outputs": [],
   "source": [
    "# Reading CSV file into test set\n",
    "test_set = pd.read_csv('bitcoin_prices_test.csv')\n",
    "test_set.head()\n",
    "\n",
    "\n",
    "real_bitcoin_price = test_set.iloc[:,1:2]         #selecting the second column\n",
    "\n",
    "real_bitcoin_price = real_bitcoin_price.values      #converting to 2D array\n",
    "\n",
    "#getting the predicted Bitcoin value of the first week of Jan 2019  \n",
    "inputs = real_bitcoin_price\t\t\t\n",
    "inputs = sc.transform(inputs)\n",
    "inputs = np.reshape(inputs, (len(inputs), 1, 1))\n",
    "predicted_bitcoin_price = regressor.predict(inputs)\n",
    "predicted_bitcoin_price = sc.inverse_transform(predicted_bitcoin_price)"
   ]
  },
  {
   "cell_type": "markdown",
   "metadata": {},
   "source": [
    "# Visualising the result"
   ]
  },
  {
   "cell_type": "code",
   "execution_count": 15,
   "metadata": {},
   "outputs": [
    {
     "data": {
      "image/png": "[encoded data removed]",
      "text/plain": [
       "<Figure size 432x288 with 1 Axes>"
      ]
     },
     "metadata": {
      "needs_background": "light"
     },
     "output_type": "display_data"
    }
   ],
   "source": [
    "plt.plot(real_bitcoin_price, color = 'green', label = 'Current Bitcoin Value')\n",
    "plt.plot(predicted_bitcoin_price, color = 'red', label = 'Predicted Bitcoin Value')\n",
    "plt.title('BTC Value Prediction')\n",
    "plt.xlabel('Days')\n",
    "plt.ylabel('BTC Value')\n",
    "plt.legend()\n",
    "plt.show()"
   ]
  },
  {
   "cell_type": "code",
   "execution_count": null,
   "metadata": {},
   "outputs": [],
   "source": []
  }
 ],
 "metadata": {
  "kernelspec": {
   "display_name": "Python 3",
   "language": "python",
   "name": "python3"
  },
  "language_info": {
   "codemirror_mode": {
    "name": "ipython",
    "version": 3
   },
   "file_extension": ".py",
   "mimetype": "text/x-python",
   "name": "python",
   "nbconvert_exporter": "python",
   "pygments_lexer": "ipython3",
   "version": "3.7.3"
  }
 },
 "nbformat": 4,
 "nbformat_minor": 4
}
